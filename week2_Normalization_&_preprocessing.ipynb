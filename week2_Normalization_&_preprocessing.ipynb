{
  "nbformat": 4,
  "nbformat_minor": 0,
  "metadata": {
    "colab": {
      "provenance": [],
      "authorship_tag": "ABX9TyNFjtXcejpQcdnfqx10+3gC",
      "include_colab_link": true
    },
    "kernelspec": {
      "name": "python3",
      "display_name": "Python 3"
    },
    "language_info": {
      "name": "python"
    }
  },
  "cells": [
    {
      "cell_type": "markdown",
      "metadata": {
        "id": "view-in-github",
        "colab_type": "text"
      },
      "source": [
        "<a href=\"https://colab.research.google.com/github/amberyliang/Big-Data-Analytics-and-Application-Course/blob/main/week2_Normalization_%26_preprocessing.ipynb\" target=\"_parent\"><img src=\"https://colab.research.google.com/assets/colab-badge.svg\" alt=\"Open In Colab\"/></a>"
      ]
    },
    {
      "cell_type": "markdown",
      "source": [
        "**Q：Use the two methods below to normalize the following group of data:**\n",
        "\n",
        "200, 300, 400, 600, 1000\n",
        "\n",
        "a. min-max normalization by setting min = 0 and max = 1\n",
        "\n",
        "b. z-score normalization"
      ],
      "metadata": {
        "id": "5uMdnpJKGBX0"
      }
    },
    {
      "cell_type": "markdown",
      "source": [
        "# Min-Max Normalization"
      ],
      "metadata": {
        "id": "lxa0rjtzHFzq"
      }
    },
    {
      "cell_type": "code",
      "execution_count": null,
      "metadata": {
        "colab": {
          "base_uri": "https://localhost:8080/"
        },
        "id": "-_kaRemKAgr-",
        "outputId": "f5821bdb-df2e-4b6e-988e-d4b11ce65110"
      },
      "outputs": [
        {
          "output_type": "stream",
          "name": "stdout",
          "text": [
            "[[0.   ]\n",
            " [0.125]\n",
            " [0.25 ]\n",
            " [0.5  ]\n",
            " [1.   ]]\n"
          ]
        }
      ],
      "source": [
        "from sklearn import preprocessing\n",
        "df = [[200],[300],[400],[600],[1000]]\n",
        "minmax = preprocessing.MinMaxScaler()#建立MinMaxScaler物件\n",
        "data_minmax = minmax.fit_transform(df) #資料標準化\n",
        "print(data_minmax)\n"
      ]
    },
    {
      "cell_type": "markdown",
      "source": [
        "*斜體文字*# 新增區段"
      ],
      "metadata": {
        "id": "W3orNe7qB5ec"
      }
    },
    {
      "cell_type": "markdown",
      "source": [
        "# Z-Score Normalization\n",
        "Normalized value= x−μ/σ\n",
        "\n",
        "standard deviation ：σ\n",
        "\n",
        "Mean：μ\n",
        "\n"
      ],
      "metadata": {
        "id": "2dJ_QywXHAZ0"
      }
    },
    {
      "cell_type": "code",
      "source": [
        "from sklearn import preprocessing\n",
        "df = [[200],[300],[400],[600],[1000]]\n",
        "zscore = preprocessing.StandardScaler() #建立StandarScale物件\n",
        "data_zs = zscore.fit_transform(df)\n",
        "print(data_zs)\n",
        "\n"
      ],
      "metadata": {
        "colab": {
          "base_uri": "https://localhost:8080/"
        },
        "id": "kbNEFvDPB723",
        "outputId": "232a5233-9dec-4702-ed1b-a641ebeabbf0"
      },
      "execution_count": null,
      "outputs": [
        {
          "output_type": "stream",
          "name": "stdout",
          "text": [
            "[[-1.06066017]\n",
            " [-0.70710678]\n",
            " [-0.35355339]\n",
            " [ 0.35355339]\n",
            " [ 1.76776695]]\n"
          ]
        }
      ]
    },
    {
      "cell_type": "markdown",
      "source": [
        "#Decimal Scaling Normalization"
      ],
      "metadata": {
        "id": "FuukQrqaG0ME"
      }
    },
    {
      "cell_type": "code",
      "source": [
        "df = [200,300,400,600,1000]\n",
        "def Dec_scale(df):\n",
        "  for x in range(len(df)):\n",
        "    p = max(df)\n",
        "    j = len(str(abs(p)))\n",
        "    df[x] = df[x]/10**j\n",
        "  print(df)\n",
        "Dec_scale(df)"
      ],
      "metadata": {
        "colab": {
          "base_uri": "https://localhost:8080/"
        },
        "id": "f4L91RPPCgHJ",
        "outputId": "151e3e26-aa6b-4bb6-f7c0-efd5ad531450"
      },
      "execution_count": null,
      "outputs": [
        {
          "output_type": "stream",
          "name": "stdout",
          "text": [
            "[0.02, 0.03, 0.04, 0.06, 0.1]\n"
          ]
        }
      ]
    }
  ]
}