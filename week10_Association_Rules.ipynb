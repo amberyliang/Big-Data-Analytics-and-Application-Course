{
  "nbformat": 4,
  "nbformat_minor": 0,
  "metadata": {
    "colab": {
      "provenance": [],
      "authorship_tag": "ABX9TyP1F210l1EcZNb91yUDX+IK",
      "include_colab_link": true
    },
    "kernelspec": {
      "name": "python3",
      "display_name": "Python 3"
    },
    "language_info": {
      "name": "python"
    }
  },
  "cells": [
    {
      "cell_type": "markdown",
      "metadata": {
        "id": "view-in-github",
        "colab_type": "text"
      },
      "source": [
        "<a href=\"https://colab.research.google.com/github/amberyliang/Big-Data-Analytics-and-Application-Course/blob/main/Association_Rules.ipynb\" target=\"_parent\"><img src=\"https://colab.research.google.com/assets/colab-badge.svg\" alt=\"Open In Colab\"/></a>"
      ]
    },
    {
      "cell_type": "code",
      "execution_count": 1,
      "metadata": {
        "id": "LUwranULGYHA"
      },
      "outputs": [],
      "source": [
        "import pandas as pd\n",
        "from mlxtend import preprocessing as pp\n",
        "from mlxtend import frequent_patterns as fp"
      ]
    },
    {
      "cell_type": "code",
      "source": [
        "dataset = [['Milk', 'Onion', 'Nutmeg', 'Kidney Beans', 'Eggs', 'Yogurt'],\n",
        "           ['Dill', 'Onion', 'Nutmeg', 'Kidney Beans', 'Eggs', 'Yogurt'],\n",
        "           ['Milk', 'Apple', 'Kidney Beans', 'Eggs'],\n",
        "           ['Milk', 'Unicorn', 'Corn', 'Kidney Beans', 'Yogurt'],\n",
        "           ['Corn', 'Onion', 'Onion', 'Kidney Beans', 'Ice cream', 'Eggs']]\n"
      ],
      "metadata": {
        "colab": {
          "base_uri": "https://localhost:8080/"
        },
        "id": "BzmXCadwKXjM",
        "outputId": "7d996f8a-fbf4-4a83-ac63-cfaffb331078"
      },
      "execution_count": 2,
      "outputs": [
        {
          "output_type": "stream",
          "name": "stderr",
          "text": [
            "/usr/local/lib/python3.10/dist-packages/ipykernel/ipkernel.py:283: DeprecationWarning: `should_run_async` will not call `transform_cell` automatically in the future. Please pass the result to `transformed_cell` argument and any exception that happen during thetransform in `preprocessing_exc_tuple` in IPython 7.17 and above.\n",
            "  and should_run_async(code)\n"
          ]
        }
      ]
    },
    {
      "cell_type": "code",
      "source": [
        "te = pp.TransactionEncoder()\n",
        "arr = te.fit_transform(dataset)\n",
        "#te.columns_\n",
        "df = pd.DataFrame(arr, columns=te.columns_)\n",
        "ap = fp.apriori(df, min_support=0.6, use_colnames=True)\n",
        "ar = fp.association_rules(ap, metric=\"confidence\", min_threshold=0.5, num_itemsets=2)\n",
        "print(ar)"
      ],
      "metadata": {
        "colab": {
          "base_uri": "https://localhost:8080/"
        },
        "id": "JcEvVtbGLk8k",
        "outputId": "35cb3f9f-4bf2-441a-d1fe-38a54cc98955"
      },
      "execution_count": 10,
      "outputs": [
        {
          "output_type": "stream",
          "name": "stdout",
          "text": [
            "              antecedents            consequents  antecedent support  \\\n",
            "0          (Kidney Beans)                 (Eggs)                 1.0   \n",
            "1                  (Eggs)         (Kidney Beans)                 0.8   \n",
            "2                 (Onion)                 (Eggs)                 0.6   \n",
            "3                  (Eggs)                (Onion)                 0.8   \n",
            "4          (Kidney Beans)                 (Milk)                 1.0   \n",
            "5                  (Milk)         (Kidney Beans)                 0.6   \n",
            "6                 (Onion)         (Kidney Beans)                 0.6   \n",
            "7          (Kidney Beans)                (Onion)                 1.0   \n",
            "8          (Kidney Beans)               (Yogurt)                 1.0   \n",
            "9                (Yogurt)         (Kidney Beans)                 0.6   \n",
            "10          (Onion, Eggs)         (Kidney Beans)                 0.6   \n",
            "11  (Onion, Kidney Beans)                 (Eggs)                 0.6   \n",
            "12   (Kidney Beans, Eggs)                (Onion)                 0.8   \n",
            "13                (Onion)   (Kidney Beans, Eggs)                 0.6   \n",
            "14                 (Eggs)  (Onion, Kidney Beans)                 0.8   \n",
            "15         (Kidney Beans)          (Onion, Eggs)                 1.0   \n",
            "\n",
            "    consequent support  support  confidence  lift  representativity  leverage  \\\n",
            "0                  0.8      0.8        0.80  1.00               1.0      0.00   \n",
            "1                  1.0      0.8        1.00  1.00               1.0      0.00   \n",
            "2                  0.8      0.6        1.00  1.25               1.0      0.12   \n",
            "3                  0.6      0.6        0.75  1.25               1.0      0.12   \n",
            "4                  0.6      0.6        0.60  1.00               1.0      0.00   \n",
            "5                  1.0      0.6        1.00  1.00               1.0      0.00   \n",
            "6                  1.0      0.6        1.00  1.00               1.0      0.00   \n",
            "7                  0.6      0.6        0.60  1.00               1.0      0.00   \n",
            "8                  0.6      0.6        0.60  1.00               1.0      0.00   \n",
            "9                  1.0      0.6        1.00  1.00               1.0      0.00   \n",
            "10                 1.0      0.6        1.00  1.00               1.0      0.00   \n",
            "11                 0.8      0.6        1.00  1.25               1.0      0.12   \n",
            "12                 0.6      0.6        0.75  1.25               1.0      0.12   \n",
            "13                 0.8      0.6        1.00  1.25               1.0      0.12   \n",
            "14                 0.6      0.6        0.75  1.25               1.0      0.12   \n",
            "15                 0.6      0.6        0.60  1.00               1.0      0.00   \n",
            "\n",
            "    conviction  zhangs_metric  jaccard  certainty  kulczynski  \n",
            "0          1.0            0.0     0.80      0.000       0.900  \n",
            "1          inf            0.0     0.80      0.000       0.900  \n",
            "2          inf            0.5     0.75      1.000       0.875  \n",
            "3          1.6            1.0     0.75      0.375       0.875  \n",
            "4          1.0            0.0     0.60      0.000       0.800  \n",
            "5          inf            0.0     0.60      0.000       0.800  \n",
            "6          inf            0.0     0.60      0.000       0.800  \n",
            "7          1.0            0.0     0.60      0.000       0.800  \n",
            "8          1.0            0.0     0.60      0.000       0.800  \n",
            "9          inf            0.0     0.60      0.000       0.800  \n",
            "10         inf            0.0     0.60      0.000       0.800  \n",
            "11         inf            0.5     0.75      1.000       0.875  \n",
            "12         1.6            1.0     0.75      0.375       0.875  \n",
            "13         inf            0.5     0.75      1.000       0.875  \n",
            "14         1.6            1.0     0.75      0.375       0.875  \n",
            "15         1.0            0.0     0.60      0.000       0.800  \n"
          ]
        },
        {
          "output_type": "stream",
          "name": "stderr",
          "text": [
            "/usr/local/lib/python3.10/dist-packages/ipykernel/ipkernel.py:283: DeprecationWarning: `should_run_async` will not call `transform_cell` automatically in the future. Please pass the result to `transformed_cell` argument and any exception that happen during thetransform in `preprocessing_exc_tuple` in IPython 7.17 and above.\n",
            "  and should_run_async(code)\n",
            "/usr/local/lib/python3.10/dist-packages/mlxtend/frequent_patterns/association_rules.py:182: RuntimeWarning: invalid value encountered in divide\n",
            "  cert_metric = np.where(certainty_denom == 0, 0, certainty_num / certainty_denom)\n"
          ]
        }
      ]
    },
    {
      "cell_type": "markdown",
      "source": [
        "如何把快過期的egg賣掉\n"
      ],
      "metadata": {
        "id": "DZiA1V5YR50e"
      }
    },
    {
      "cell_type": "code",
      "source": [
        "filt = (ar['consequents'] == {'Eggs'})&(ar['antecedents'].apply(lambda v: len(v) >1))\n",
        "ar[filt]\n"
      ],
      "metadata": {
        "colab": {
          "base_uri": "https://localhost:8080/",
          "height": 189
        },
        "id": "V1U4TCW0R_KC",
        "outputId": "9918f259-e560-4ba7-a00d-7c99a9b6cc6a"
      },
      "execution_count": 13,
      "outputs": [
        {
          "output_type": "stream",
          "name": "stderr",
          "text": [
            "/usr/local/lib/python3.10/dist-packages/ipykernel/ipkernel.py:283: DeprecationWarning: `should_run_async` will not call `transform_cell` automatically in the future. Please pass the result to `transformed_cell` argument and any exception that happen during thetransform in `preprocessing_exc_tuple` in IPython 7.17 and above.\n",
            "  and should_run_async(code)\n"
          ]
        },
        {
          "output_type": "execute_result",
          "data": {
            "text/plain": [
              "              antecedents consequents  antecedent support  consequent support  \\\n",
              "11  (Onion, Kidney Beans)      (Eggs)                 0.6                 0.8   \n",
              "\n",
              "    support  confidence  lift  representativity  leverage  conviction  \\\n",
              "11      0.6         1.0  1.25               1.0      0.12         inf   \n",
              "\n",
              "    zhangs_metric  jaccard  certainty  kulczynski  \n",
              "11            0.5     0.75        1.0       0.875  "
            ],
            "text/html": [
              "\n",
              "  <div id=\"df-4fa0cb6f-7ee4-4bd5-88bf-2fc991f9f178\" class=\"colab-df-container\">\n",
              "    <div>\n",
              "<style scoped>\n",
              "    .dataframe tbody tr th:only-of-type {\n",
              "        vertical-align: middle;\n",
              "    }\n",
              "\n",
              "    .dataframe tbody tr th {\n",
              "        vertical-align: top;\n",
              "    }\n",
              "\n",
              "    .dataframe thead th {\n",
              "        text-align: right;\n",
              "    }\n",
              "</style>\n",
              "<table border=\"1\" class=\"dataframe\">\n",
              "  <thead>\n",
              "    <tr style=\"text-align: right;\">\n",
              "      <th></th>\n",
              "      <th>antecedents</th>\n",
              "      <th>consequents</th>\n",
              "      <th>antecedent support</th>\n",
              "      <th>consequent support</th>\n",
              "      <th>support</th>\n",
              "      <th>confidence</th>\n",
              "      <th>lift</th>\n",
              "      <th>representativity</th>\n",
              "      <th>leverage</th>\n",
              "      <th>conviction</th>\n",
              "      <th>zhangs_metric</th>\n",
              "      <th>jaccard</th>\n",
              "      <th>certainty</th>\n",
              "      <th>kulczynski</th>\n",
              "    </tr>\n",
              "  </thead>\n",
              "  <tbody>\n",
              "    <tr>\n",
              "      <th>11</th>\n",
              "      <td>(Onion, Kidney Beans)</td>\n",
              "      <td>(Eggs)</td>\n",
              "      <td>0.6</td>\n",
              "      <td>0.8</td>\n",
              "      <td>0.6</td>\n",
              "      <td>1.0</td>\n",
              "      <td>1.25</td>\n",
              "      <td>1.0</td>\n",
              "      <td>0.12</td>\n",
              "      <td>inf</td>\n",
              "      <td>0.5</td>\n",
              "      <td>0.75</td>\n",
              "      <td>1.0</td>\n",
              "      <td>0.875</td>\n",
              "    </tr>\n",
              "  </tbody>\n",
              "</table>\n",
              "</div>\n",
              "    <div class=\"colab-df-buttons\">\n",
              "\n",
              "  <div class=\"colab-df-container\">\n",
              "    <button class=\"colab-df-convert\" onclick=\"convertToInteractive('df-4fa0cb6f-7ee4-4bd5-88bf-2fc991f9f178')\"\n",
              "            title=\"Convert this dataframe to an interactive table.\"\n",
              "            style=\"display:none;\">\n",
              "\n",
              "  <svg xmlns=\"http://www.w3.org/2000/svg\" height=\"24px\" viewBox=\"0 -960 960 960\">\n",
              "    <path d=\"M120-120v-720h720v720H120Zm60-500h600v-160H180v160Zm220 220h160v-160H400v160Zm0 220h160v-160H400v160ZM180-400h160v-160H180v160Zm440 0h160v-160H620v160ZM180-180h160v-160H180v160Zm440 0h160v-160H620v160Z\"/>\n",
              "  </svg>\n",
              "    </button>\n",
              "\n",
              "  <style>\n",
              "    .colab-df-container {\n",
              "      display:flex;\n",
              "      gap: 12px;\n",
              "    }\n",
              "\n",
              "    .colab-df-convert {\n",
              "      background-color: #E8F0FE;\n",
              "      border: none;\n",
              "      border-radius: 50%;\n",
              "      cursor: pointer;\n",
              "      display: none;\n",
              "      fill: #1967D2;\n",
              "      height: 32px;\n",
              "      padding: 0 0 0 0;\n",
              "      width: 32px;\n",
              "    }\n",
              "\n",
              "    .colab-df-convert:hover {\n",
              "      background-color: #E2EBFA;\n",
              "      box-shadow: 0px 1px 2px rgba(60, 64, 67, 0.3), 0px 1px 3px 1px rgba(60, 64, 67, 0.15);\n",
              "      fill: #174EA6;\n",
              "    }\n",
              "\n",
              "    .colab-df-buttons div {\n",
              "      margin-bottom: 4px;\n",
              "    }\n",
              "\n",
              "    [theme=dark] .colab-df-convert {\n",
              "      background-color: #3B4455;\n",
              "      fill: #D2E3FC;\n",
              "    }\n",
              "\n",
              "    [theme=dark] .colab-df-convert:hover {\n",
              "      background-color: #434B5C;\n",
              "      box-shadow: 0px 1px 3px 1px rgba(0, 0, 0, 0.15);\n",
              "      filter: drop-shadow(0px 1px 2px rgba(0, 0, 0, 0.3));\n",
              "      fill: #FFFFFF;\n",
              "    }\n",
              "  </style>\n",
              "\n",
              "    <script>\n",
              "      const buttonEl =\n",
              "        document.querySelector('#df-4fa0cb6f-7ee4-4bd5-88bf-2fc991f9f178 button.colab-df-convert');\n",
              "      buttonEl.style.display =\n",
              "        google.colab.kernel.accessAllowed ? 'block' : 'none';\n",
              "\n",
              "      async function convertToInteractive(key) {\n",
              "        const element = document.querySelector('#df-4fa0cb6f-7ee4-4bd5-88bf-2fc991f9f178');\n",
              "        const dataTable =\n",
              "          await google.colab.kernel.invokeFunction('convertToInteractive',\n",
              "                                                    [key], {});\n",
              "        if (!dataTable) return;\n",
              "\n",
              "        const docLinkHtml = 'Like what you see? Visit the ' +\n",
              "          '<a target=\"_blank\" href=https://colab.research.google.com/notebooks/data_table.ipynb>data table notebook</a>'\n",
              "          + ' to learn more about interactive tables.';\n",
              "        element.innerHTML = '';\n",
              "        dataTable['output_type'] = 'display_data';\n",
              "        await google.colab.output.renderOutput(dataTable, element);\n",
              "        const docLink = document.createElement('div');\n",
              "        docLink.innerHTML = docLinkHtml;\n",
              "        element.appendChild(docLink);\n",
              "      }\n",
              "    </script>\n",
              "  </div>\n",
              "\n",
              "\n",
              "    </div>\n",
              "  </div>\n"
            ],
            "application/vnd.google.colaboratory.intrinsic+json": {
              "type": "dataframe",
              "repr_error": "Out of range float values are not JSON compliant: inf"
            }
          },
          "metadata": {},
          "execution_count": 13
        }
      ]
    }
  ]
}
